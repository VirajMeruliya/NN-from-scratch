{
 "cells": [
  {
   "cell_type": "code",
   "execution_count": 12,
   "metadata": {},
   "outputs": [],
   "source": [
    "import math\n",
    "import numpy as np\n",
    "import matplotlib.pyplot as plt\n",
    "\n",
    "%matplotlib inline"
   ]
  },
  {
   "cell_type": "code",
   "execution_count": 13,
   "metadata": {},
   "outputs": [],
   "source": [
    "def f(x):\n",
    "    return 3*x**2 + 2*x - 1 "
   ]
  },
  {
   "cell_type": "code",
   "execution_count": 14,
   "metadata": {},
   "outputs": [
    {
     "data": {
      "text/plain": [
       "[<matplotlib.lines.Line2D at 0x1252f6f50>]"
      ]
     },
     "execution_count": 14,
     "metadata": {},
     "output_type": "execute_result"
    },
    {
     "data": {
      "image/png": "[encoded data removed]",
      "text/plain": [
       "<Figure size 640x480 with 1 Axes>"
      ]
     },
     "metadata": {},
     "output_type": "display_data"
    }
   ],
   "source": [
    "xs = np.arange(-10, 10, 0.1)\n",
    "ys = f(xs)\n",
    "plt.plot(xs, ys)"
   ]
  },
  {
   "cell_type": "code",
   "execution_count": 15,
   "metadata": {},
   "outputs": [
    {
     "data": {
      "text/plain": [
       "3.000044657142098e-06"
      ]
     },
     "execution_count": 15,
     "metadata": {},
     "output_type": "execute_result"
    }
   ],
   "source": [
    "h = 0.000001 # don't make it too small, otherwise it will be a numerical error\n",
    "x = -1/3\n",
    "(f(x+h) - f(x))/h"
   ]
  },
  {
   "cell_type": "code",
   "execution_count": 16,
   "metadata": {},
   "outputs": [
    {
     "name": "stdout",
     "output_type": "stream",
     "text": [
      "d1 16.0\n",
      "d2 16.001\n",
      "numerical derivative 1.0000000000012221\n"
     ]
    }
   ],
   "source": [
    "# multiple variables\n",
    "\n",
    "h = 0.001\n",
    "\n",
    "# inputs\n",
    "a = 2.0\n",
    "b = 3.0\n",
    "c = 4.0\n",
    "\n",
    "d1 = 2*a*b + c\n",
    "c += h\n",
    "d2 = 2*a*b + c\n",
    "\n",
    "print('d1', d1)\n",
    "print('d2', d2)\n",
    "print('numerical derivative', (d2-d1)/h)"
   ]
  },
  {
   "cell_type": "markdown",
   "metadata": {},
   "source": [
    "### Moving towards NN"
   ]
  },
  {
   "cell_type": "code",
   "execution_count": 17,
   "metadata": {},
   "outputs": [],
   "source": [
    "# Value object\n",
    "class Value:\n",
    "     \n",
    "    def __init__(self, data, _children=(), _op='', label=''):\n",
    "          self.data = data\n",
    "          self.grad = 0.0\n",
    "          self._prev = set(_children)\n",
    "          self._op = _op\n",
    "          self.label = label\n",
    "\n",
    "    def __repr__(self):\n",
    "        return f\"Value(data={self.data})\"\n",
    "    \n",
    "    def __add__(self, other):\n",
    "         out = Value(self.data + other.data, (self, other), '+')\n",
    "         return out\n",
    "    \n",
    "    def __mul__(self, other):\n",
    "         out = Value(self.data*other.data, (self, other), '*')\n",
    "         return out "
   ]
  },
  {
   "cell_type": "code",
   "execution_count": 18,
   "metadata": {},
   "outputs": [
    {
     "data": {
      "text/plain": [
       "Value(data=5.0)"
      ]
     },
     "execution_count": 18,
     "metadata": {},
     "output_type": "execute_result"
    }
   ],
   "source": [
    "a = Value(-2.0, label='a')\n",
    "b = Value(2.0, label='b')\n",
    "c = Value(1.5, label='c')\n",
    "d = a*b; d.label = 'd'\n",
    "e = d + c; e.label = 'e'\n",
    "f = Value(-2.0, label = 'f')\n",
    "L = e*f; L.label = 'L'\n",
    "L"
   ]
  },
  {
   "cell_type": "code",
   "execution_count": 19,
   "metadata": {},
   "outputs": [],
   "source": [
    "from graphviz import Digraph\n",
    "\n",
    "def trace(root):\n",
    "    nodes, edges = set(), set()\n",
    "    def build(v):\n",
    "        if v not in nodes:\n",
    "            nodes.add(v)\n",
    "            for child in v._prev:\n",
    "                edges.add((child, v))\n",
    "                build(child)\n",
    "    build(root)\n",
    "    return nodes, edges\n",
    "\n",
    "def draw_dot(root):\n",
    "    dot = Digraph(format = 'svg', graph_attr={'rankdir':'LR'}) # TB top to bottom, LR left to right\n",
    "    nodes, edges = trace(root)\n",
    "\n",
    "    # drawing the nodes\n",
    "    for n in nodes:\n",
    "        uid = str(id(n))\n",
    "        dot.node(name = uid, label = \"{%s | data %.4f | grad %.4f}\" % (n.label, n.data, n.grad), shape='record')\n",
    "        \n",
    "        if n._op:\n",
    "            dot.node(name = uid + n._op, label = n._op)\n",
    "            dot.edge(uid + n._op, uid)\n",
    "\n",
    "    # drawing the edges\n",
    "    for n1, n2 in edges:\n",
    "            dot.edge(str(id(n1)), str(id(n2)) + n2._op)    \n",
    "    \n",
    "    return dot"
   ]
  },
  {
   "cell_type": "code",
   "execution_count": 20,
   "metadata": {},
   "outputs": [
    {
     "data": {
      "image/svg+xml": [
       "<?xml version=\"1.0\" encoding=\"UTF-8\" standalone=\"no\"?>\n",
       "<!DOCTYPE svg PUBLIC \"-//W3C//DTD SVG 1.1//EN\"\n",
       " \"http://www.w3.org/Graphics/SVG/1.1/DTD/svg11.dtd\">\n",
       "<!-- Generated by graphviz version 12.2.1 (20241206.2353)\n",
       " -->\n",
       "<!-- Pages: 1 -->\n",
       "<svg width=\"1135pt\" height=\"156pt\"\n",
       " viewBox=\"0.00 0.00 1134.50 156.00\" xmlns=\"http://www.w3.org/2000/svg\" xmlns:xlink=\"http://www.w3.org/1999/xlink\">\n",
       "<g id=\"graph0\" class=\"graph\" transform=\"scale(1 1) rotate(0) translate(4 152)\">\n",
       "<polygon fill=\"white\" stroke=\"none\" points=\"-4,4 -4,-152 1130.5,-152 1130.5,4 -4,4\"/>\n",
       "<!-- 5169111120 -->\n",
       "<g id=\"node1\" class=\"node\">\n",
       "<title>5169111120</title>\n",
       "<polygon fill=\"none\" stroke=\"black\" points=\"1.88,-111.5 1.88,-147.5 185.62,-147.5 185.62,-111.5 1.88,-111.5\"/>\n",
       "<text text-anchor=\"middle\" x=\"13.25\" y=\"-124.7\" font-family=\"Times,serif\" font-size=\"14.00\">b</text>\n",
       "<polyline fill=\"none\" stroke=\"black\" points=\"24.62,-112 24.62,-147.5\"/>\n",
       "<text text-anchor=\"middle\" x=\"64.5\" y=\"-124.7\" font-family=\"Times,serif\" font-size=\"14.00\">data 2.0000</text>\n",
       "<polyline fill=\"none\" stroke=\"black\" points=\"104.38,-112 104.38,-147.5\"/>\n",
       "<text text-anchor=\"middle\" x=\"145\" y=\"-124.7\" font-family=\"Times,serif\" font-size=\"14.00\">grad 0.0000</text>\n",
       "</g>\n",
       "<!-- 4918111952* -->\n",
       "<g id=\"node5\" class=\"node\">\n",
       "<title>4918111952*</title>\n",
       "<ellipse fill=\"none\" stroke=\"black\" cx=\"250.5\" cy=\"-101.5\" rx=\"27\" ry=\"18\"/>\n",
       "<text text-anchor=\"middle\" x=\"250.5\" y=\"-96.45\" font-family=\"Times,serif\" font-size=\"14.00\">*</text>\n",
       "</g>\n",
       "<!-- 5169111120&#45;&gt;4918111952* -->\n",
       "<g id=\"edge6\" class=\"edge\">\n",
       "<title>5169111120&#45;&gt;4918111952*</title>\n",
       "<path fill=\"none\" stroke=\"black\" d=\"M186.11,-112.97C195.54,-111.26 204.68,-109.61 212.95,-108.11\"/>\n",
       "<polygon fill=\"black\" stroke=\"black\" points=\"213.3,-111.61 222.51,-106.38 212.05,-104.72 213.3,-111.61\"/>\n",
       "</g>\n",
       "<!-- 5169167504 -->\n",
       "<g id=\"node2\" class=\"node\">\n",
       "<title>5169167504</title>\n",
       "<polygon fill=\"none\" stroke=\"black\" points=\"627.75,-55.5 627.75,-91.5 815.25,-91.5 815.25,-55.5 627.75,-55.5\"/>\n",
       "<text text-anchor=\"middle\" x=\"638.75\" y=\"-68.7\" font-family=\"Times,serif\" font-size=\"14.00\">e</text>\n",
       "<polyline fill=\"none\" stroke=\"black\" points=\"649.75,-56 649.75,-91.5\"/>\n",
       "<text text-anchor=\"middle\" x=\"691.88\" y=\"-68.7\" font-family=\"Times,serif\" font-size=\"14.00\">data &#45;2.5000</text>\n",
       "<polyline fill=\"none\" stroke=\"black\" points=\"734,-56 734,-91.5\"/>\n",
       "<text text-anchor=\"middle\" x=\"774.62\" y=\"-68.7\" font-family=\"Times,serif\" font-size=\"14.00\">grad 0.0000</text>\n",
       "</g>\n",
       "<!-- 4924757264* -->\n",
       "<g id=\"node7\" class=\"node\">\n",
       "<title>4924757264*</title>\n",
       "<ellipse fill=\"none\" stroke=\"black\" cx=\"878.25\" cy=\"-45.5\" rx=\"27\" ry=\"18\"/>\n",
       "<text text-anchor=\"middle\" x=\"878.25\" y=\"-40.45\" font-family=\"Times,serif\" font-size=\"14.00\">*</text>\n",
       "</g>\n",
       "<!-- 5169167504&#45;&gt;4924757264* -->\n",
       "<g id=\"edge8\" class=\"edge\">\n",
       "<title>5169167504&#45;&gt;4924757264*</title>\n",
       "<path fill=\"none\" stroke=\"black\" d=\"M815.64,-56.65C824.4,-55.06 832.88,-53.53 840.59,-52.13\"/>\n",
       "<polygon fill=\"black\" stroke=\"black\" points=\"840.96,-55.62 850.18,-50.4 839.71,-48.73 840.96,-55.62\"/>\n",
       "</g>\n",
       "<!-- 5169167504+ -->\n",
       "<g id=\"node3\" class=\"node\">\n",
       "<title>5169167504+</title>\n",
       "<ellipse fill=\"none\" stroke=\"black\" cx=\"564.75\" cy=\"-73.5\" rx=\"27\" ry=\"18\"/>\n",
       "<text text-anchor=\"middle\" x=\"564.75\" y=\"-68.45\" font-family=\"Times,serif\" font-size=\"14.00\">+</text>\n",
       "</g>\n",
       "<!-- 5169167504+&#45;&gt;5169167504 -->\n",
       "<g id=\"edge1\" class=\"edge\">\n",
       "<title>5169167504+&#45;&gt;5169167504</title>\n",
       "<path fill=\"none\" stroke=\"black\" d=\"M592,-73.5C599.16,-73.5 607.37,-73.5 616.1,-73.5\"/>\n",
       "<polygon fill=\"black\" stroke=\"black\" points=\"615.89,-77 625.89,-73.5 615.89,-70 615.89,-77\"/>\n",
       "</g>\n",
       "<!-- 4918111952 -->\n",
       "<g id=\"node4\" class=\"node\">\n",
       "<title>4918111952</title>\n",
       "<polygon fill=\"none\" stroke=\"black\" points=\"313.5,-83.5 313.5,-119.5 501.75,-119.5 501.75,-83.5 313.5,-83.5\"/>\n",
       "<text text-anchor=\"middle\" x=\"324.88\" y=\"-96.7\" font-family=\"Times,serif\" font-size=\"14.00\">d</text>\n",
       "<polyline fill=\"none\" stroke=\"black\" points=\"336.25,-84 336.25,-119.5\"/>\n",
       "<text text-anchor=\"middle\" x=\"378.38\" y=\"-96.7\" font-family=\"Times,serif\" font-size=\"14.00\">data &#45;4.0000</text>\n",
       "<polyline fill=\"none\" stroke=\"black\" points=\"420.5,-84 420.5,-119.5\"/>\n",
       "<text text-anchor=\"middle\" x=\"461.12\" y=\"-96.7\" font-family=\"Times,serif\" font-size=\"14.00\">grad 0.0000</text>\n",
       "</g>\n",
       "<!-- 4918111952&#45;&gt;5169167504+ -->\n",
       "<g id=\"edge5\" class=\"edge\">\n",
       "<title>4918111952&#45;&gt;5169167504+</title>\n",
       "<path fill=\"none\" stroke=\"black\" d=\"M501.99,-84.65C510.86,-83.05 519.43,-81.5 527.23,-80.09\"/>\n",
       "<polygon fill=\"black\" stroke=\"black\" points=\"527.7,-83.56 536.92,-78.34 526.45,-76.68 527.7,-83.56\"/>\n",
       "</g>\n",
       "<!-- 4918111952*&#45;&gt;4918111952 -->\n",
       "<g id=\"edge2\" class=\"edge\">\n",
       "<title>4918111952*&#45;&gt;4918111952</title>\n",
       "<path fill=\"none\" stroke=\"black\" d=\"M277.81,-101.5C284.99,-101.5 293.22,-101.5 301.97,-101.5\"/>\n",
       "<polygon fill=\"black\" stroke=\"black\" points=\"301.79,-105 311.79,-101.5 301.79,-98 301.79,-105\"/>\n",
       "</g>\n",
       "<!-- 4924757264 -->\n",
       "<g id=\"node6\" class=\"node\">\n",
       "<title>4924757264</title>\n",
       "<polygon fill=\"none\" stroke=\"black\" points=\"941.25,-27.5 941.25,-63.5 1126.5,-63.5 1126.5,-27.5 941.25,-27.5\"/>\n",
       "<text text-anchor=\"middle\" x=\"953.38\" y=\"-40.7\" font-family=\"Times,serif\" font-size=\"14.00\">L</text>\n",
       "<polyline fill=\"none\" stroke=\"black\" points=\"965.5,-28 965.5,-63.5\"/>\n",
       "<text text-anchor=\"middle\" x=\"1005.38\" y=\"-40.7\" font-family=\"Times,serif\" font-size=\"14.00\">data 5.0000</text>\n",
       "<polyline fill=\"none\" stroke=\"black\" points=\"1045.25,-28 1045.25,-63.5\"/>\n",
       "<text text-anchor=\"middle\" x=\"1085.88\" y=\"-40.7\" font-family=\"Times,serif\" font-size=\"14.00\">grad 0.0000</text>\n",
       "</g>\n",
       "<!-- 4924757264*&#45;&gt;4924757264 -->\n",
       "<g id=\"edge3\" class=\"edge\">\n",
       "<title>4924757264*&#45;&gt;4924757264</title>\n",
       "<path fill=\"none\" stroke=\"black\" d=\"M905.66,-45.5C912.7,-45.5 920.75,-45.5 929.3,-45.5\"/>\n",
       "<polygon fill=\"black\" stroke=\"black\" points=\"929.29,-49 939.29,-45.5 929.29,-42 929.29,-49\"/>\n",
       "</g>\n",
       "<!-- 4924755216 -->\n",
       "<g id=\"node8\" class=\"node\">\n",
       "<title>4924755216</title>\n",
       "<polygon fill=\"none\" stroke=\"black\" points=\"316.12,-28.5 316.12,-64.5 499.12,-64.5 499.12,-28.5 316.12,-28.5\"/>\n",
       "<text text-anchor=\"middle\" x=\"327.12\" y=\"-41.7\" font-family=\"Times,serif\" font-size=\"14.00\">c</text>\n",
       "<polyline fill=\"none\" stroke=\"black\" points=\"338.12,-29 338.12,-64.5\"/>\n",
       "<text text-anchor=\"middle\" x=\"378\" y=\"-41.7\" font-family=\"Times,serif\" font-size=\"14.00\">data 1.5000</text>\n",
       "<polyline fill=\"none\" stroke=\"black\" points=\"417.88,-29 417.88,-64.5\"/>\n",
       "<text text-anchor=\"middle\" x=\"458.5\" y=\"-41.7\" font-family=\"Times,serif\" font-size=\"14.00\">grad 0.0000</text>\n",
       "</g>\n",
       "<!-- 4924755216&#45;&gt;5169167504+ -->\n",
       "<g id=\"edge7\" class=\"edge\">\n",
       "<title>4924755216&#45;&gt;5169167504+</title>\n",
       "<path fill=\"none\" stroke=\"black\" d=\"M499.31,-62.28C508.95,-63.96 518.32,-65.59 526.79,-67.07\"/>\n",
       "<polygon fill=\"black\" stroke=\"black\" points=\"526.15,-70.51 536.6,-68.77 527.35,-63.61 526.15,-70.51\"/>\n",
       "</g>\n",
       "<!-- 5169153872 -->\n",
       "<g id=\"node9\" class=\"node\">\n",
       "<title>5169153872</title>\n",
       "<polygon fill=\"none\" stroke=\"black\" points=\"0,-56.5 0,-92.5 187.5,-92.5 187.5,-56.5 0,-56.5\"/>\n",
       "<text text-anchor=\"middle\" x=\"11\" y=\"-69.7\" font-family=\"Times,serif\" font-size=\"14.00\">a</text>\n",
       "<polyline fill=\"none\" stroke=\"black\" points=\"22,-57 22,-92.5\"/>\n",
       "<text text-anchor=\"middle\" x=\"64.12\" y=\"-69.7\" font-family=\"Times,serif\" font-size=\"14.00\">data &#45;2.0000</text>\n",
       "<polyline fill=\"none\" stroke=\"black\" points=\"106.25,-57 106.25,-92.5\"/>\n",
       "<text text-anchor=\"middle\" x=\"146.88\" y=\"-69.7\" font-family=\"Times,serif\" font-size=\"14.00\">grad 0.0000</text>\n",
       "</g>\n",
       "<!-- 5169153872&#45;&gt;4918111952* -->\n",
       "<g id=\"edge9\" class=\"edge\">\n",
       "<title>5169153872&#45;&gt;4918111952*</title>\n",
       "<path fill=\"none\" stroke=\"black\" d=\"M187.89,-90.75C196.65,-92.28 205.13,-93.76 212.84,-95.1\"/>\n",
       "<polygon fill=\"black\" stroke=\"black\" points=\"211.97,-98.51 222.43,-96.78 213.18,-91.61 211.97,-98.51\"/>\n",
       "</g>\n",
       "<!-- 4919322064 -->\n",
       "<g id=\"node10\" class=\"node\">\n",
       "<title>4919322064</title>\n",
       "<polygon fill=\"none\" stroke=\"black\" points=\"628.5,-0.5 628.5,-36.5 814.5,-36.5 814.5,-0.5 628.5,-0.5\"/>\n",
       "<text text-anchor=\"middle\" x=\"638.75\" y=\"-13.7\" font-family=\"Times,serif\" font-size=\"14.00\">f</text>\n",
       "<polyline fill=\"none\" stroke=\"black\" points=\"649,-1 649,-36.5\"/>\n",
       "<text text-anchor=\"middle\" x=\"691.12\" y=\"-13.7\" font-family=\"Times,serif\" font-size=\"14.00\">data &#45;2.0000</text>\n",
       "<polyline fill=\"none\" stroke=\"black\" points=\"733.25,-1 733.25,-36.5\"/>\n",
       "<text text-anchor=\"middle\" x=\"773.88\" y=\"-13.7\" font-family=\"Times,serif\" font-size=\"14.00\">grad 0.0000</text>\n",
       "</g>\n",
       "<!-- 4919322064&#45;&gt;4924757264* -->\n",
       "<g id=\"edge4\" class=\"edge\">\n",
       "<title>4919322064&#45;&gt;4924757264*</title>\n",
       "<path fill=\"none\" stroke=\"black\" d=\"M814.75,-34.6C823.89,-36.19 832.73,-37.73 840.75,-39.13\"/>\n",
       "<polygon fill=\"black\" stroke=\"black\" points=\"839.91,-42.54 850.37,-40.81 841.12,-35.64 839.91,-42.54\"/>\n",
       "</g>\n",
       "</g>\n",
       "</svg>\n"
      ],
      "text/plain": [
       "<graphviz.graphs.Digraph at 0x1341bfe50>"
      ]
     },
     "execution_count": 20,
     "metadata": {},
     "output_type": "execute_result"
    }
   ],
   "source": [
    "draw_dot(L)"
   ]
  },
  {
   "cell_type": "code",
   "execution_count": null,
   "metadata": {},
   "outputs": [],
   "source": []
  },
  {
   "cell_type": "markdown",
   "metadata": {},
   "source": [
    "### Computing Gradients (Manual)"
   ]
  },
  {
   "cell_type": "code",
   "execution_count": 29,
   "metadata": {},
   "outputs": [],
   "source": [
    "def lol():\n",
    "\n",
    "    h = 0.001 \n",
    "\n",
    "    a = Value(-2.0, label='a')\n",
    "    b = Value(2.0, label='b')\n",
    "    c = Value(1.5, label='c')\n",
    "    d = a*b; d.label = 'd'\n",
    "    e = d + c; e.label = 'e'\n",
    "    f = Value(-2.0, label = 'f')\n",
    "    L = e*f; L.label = 'L'\n",
    "    L1 = L.data\n",
    "\n",
    "    a = Value(-2.0 + h, label='a')\n",
    "    b = Value(2.0, label='b')\n",
    "    c = Value(1.5, label='c')\n",
    "    d = a*b; d.label = 'd'\n",
    "    e = d + c; e.label = 'e'\n",
    "    f = Value(-2.0, label = 'f')\n",
    "    L = e*f; L.label = 'L'\n",
    "    L2 = L.data\n",
    "\n",
    "    return (L2 - L1)/h"
   ]
  },
  {
   "cell_type": "code",
   "execution_count": 30,
   "metadata": {},
   "outputs": [
    {
     "data": {
      "text/plain": [
       "-3.9999999999995595"
      ]
     },
     "execution_count": 30,
     "metadata": {},
     "output_type": "execute_result"
    }
   ],
   "source": [
    "lol()"
   ]
  },
  {
   "cell_type": "code",
   "execution_count": 31,
   "metadata": {},
   "outputs": [
    {
     "data": {
      "image/svg+xml": [
       "<?xml version=\"1.0\" encoding=\"UTF-8\" standalone=\"no\"?>\n",
       "<!DOCTYPE svg PUBLIC \"-//W3C//DTD SVG 1.1//EN\"\n",
       " \"http://www.w3.org/Graphics/SVG/1.1/DTD/svg11.dtd\">\n",
       "<!-- Generated by graphviz version 12.2.1 (20241206.2353)\n",
       " -->\n",
       "<!-- Pages: 1 -->\n",
       "<svg width=\"1139pt\" height=\"156pt\"\n",
       " viewBox=\"0.00 0.00 1139.00 156.00\" xmlns=\"http://www.w3.org/2000/svg\" xmlns:xlink=\"http://www.w3.org/1999/xlink\">\n",
       "<g id=\"graph0\" class=\"graph\" transform=\"scale(1 1) rotate(0) translate(4 152)\">\n",
       "<polygon fill=\"white\" stroke=\"none\" points=\"-4,4 -4,-152 1135,-152 1135,4 -4,4\"/>\n",
       "<!-- 5169111120 -->\n",
       "<g id=\"node1\" class=\"node\">\n",
       "<title>5169111120</title>\n",
       "<polygon fill=\"none\" stroke=\"black\" points=\"4.12,-111.5 4.12,-147.5 187.88,-147.5 187.88,-111.5 4.12,-111.5\"/>\n",
       "<text text-anchor=\"middle\" x=\"15.5\" y=\"-124.7\" font-family=\"Times,serif\" font-size=\"14.00\">b</text>\n",
       "<polyline fill=\"none\" stroke=\"black\" points=\"26.88,-112 26.88,-147.5\"/>\n",
       "<text text-anchor=\"middle\" x=\"66.75\" y=\"-124.7\" font-family=\"Times,serif\" font-size=\"14.00\">data 2.0000</text>\n",
       "<polyline fill=\"none\" stroke=\"black\" points=\"106.62,-112 106.62,-147.5\"/>\n",
       "<text text-anchor=\"middle\" x=\"147.25\" y=\"-124.7\" font-family=\"Times,serif\" font-size=\"14.00\">grad 0.0000</text>\n",
       "</g>\n",
       "<!-- 4918111952* -->\n",
       "<g id=\"node5\" class=\"node\">\n",
       "<title>4918111952*</title>\n",
       "<ellipse fill=\"none\" stroke=\"black\" cx=\"255\" cy=\"-101.5\" rx=\"27\" ry=\"18\"/>\n",
       "<text text-anchor=\"middle\" x=\"255\" y=\"-96.45\" font-family=\"Times,serif\" font-size=\"14.00\">*</text>\n",
       "</g>\n",
       "<!-- 5169111120&#45;&gt;4918111952* -->\n",
       "<g id=\"edge6\" class=\"edge\">\n",
       "<title>5169111120&#45;&gt;4918111952*</title>\n",
       "<path fill=\"none\" stroke=\"black\" d=\"M188.33,-113.21C198.55,-111.39 208.48,-109.62 217.39,-108.03\"/>\n",
       "<polygon fill=\"black\" stroke=\"black\" points=\"217.73,-111.52 226.96,-106.32 216.5,-104.63 217.73,-111.52\"/>\n",
       "</g>\n",
       "<!-- 5169167504 -->\n",
       "<g id=\"node2\" class=\"node\">\n",
       "<title>5169167504</title>\n",
       "<polygon fill=\"none\" stroke=\"black\" points=\"632.25,-55.5 632.25,-91.5 819.75,-91.5 819.75,-55.5 632.25,-55.5\"/>\n",
       "<text text-anchor=\"middle\" x=\"643.25\" y=\"-68.7\" font-family=\"Times,serif\" font-size=\"14.00\">e</text>\n",
       "<polyline fill=\"none\" stroke=\"black\" points=\"654.25,-56 654.25,-91.5\"/>\n",
       "<text text-anchor=\"middle\" x=\"696.38\" y=\"-68.7\" font-family=\"Times,serif\" font-size=\"14.00\">data &#45;2.5000</text>\n",
       "<polyline fill=\"none\" stroke=\"black\" points=\"738.5,-56 738.5,-91.5\"/>\n",
       "<text text-anchor=\"middle\" x=\"779.12\" y=\"-68.7\" font-family=\"Times,serif\" font-size=\"14.00\">grad 0.0000</text>\n",
       "</g>\n",
       "<!-- 4924757264* -->\n",
       "<g id=\"node7\" class=\"node\">\n",
       "<title>4924757264*</title>\n",
       "<ellipse fill=\"none\" stroke=\"black\" cx=\"882.75\" cy=\"-45.5\" rx=\"27\" ry=\"18\"/>\n",
       "<text text-anchor=\"middle\" x=\"882.75\" y=\"-40.45\" font-family=\"Times,serif\" font-size=\"14.00\">*</text>\n",
       "</g>\n",
       "<!-- 5169167504&#45;&gt;4924757264* -->\n",
       "<g id=\"edge8\" class=\"edge\">\n",
       "<title>5169167504&#45;&gt;4924757264*</title>\n",
       "<path fill=\"none\" stroke=\"black\" d=\"M820.14,-56.65C828.9,-55.06 837.38,-53.53 845.09,-52.13\"/>\n",
       "<polygon fill=\"black\" stroke=\"black\" points=\"845.46,-55.62 854.68,-50.4 844.21,-48.73 845.46,-55.62\"/>\n",
       "</g>\n",
       "<!-- 5169167504+ -->\n",
       "<g id=\"node3\" class=\"node\">\n",
       "<title>5169167504+</title>\n",
       "<ellipse fill=\"none\" stroke=\"black\" cx=\"569.25\" cy=\"-73.5\" rx=\"27\" ry=\"18\"/>\n",
       "<text text-anchor=\"middle\" x=\"569.25\" y=\"-68.45\" font-family=\"Times,serif\" font-size=\"14.00\">+</text>\n",
       "</g>\n",
       "<!-- 5169167504+&#45;&gt;5169167504 -->\n",
       "<g id=\"edge1\" class=\"edge\">\n",
       "<title>5169167504+&#45;&gt;5169167504</title>\n",
       "<path fill=\"none\" stroke=\"black\" d=\"M596.5,-73.5C603.66,-73.5 611.87,-73.5 620.6,-73.5\"/>\n",
       "<polygon fill=\"black\" stroke=\"black\" points=\"620.39,-77 630.39,-73.5 620.39,-70 620.39,-77\"/>\n",
       "</g>\n",
       "<!-- 4918111952 -->\n",
       "<g id=\"node4\" class=\"node\">\n",
       "<title>4918111952</title>\n",
       "<polygon fill=\"none\" stroke=\"black\" points=\"318,-83.5 318,-119.5 506.25,-119.5 506.25,-83.5 318,-83.5\"/>\n",
       "<text text-anchor=\"middle\" x=\"329.38\" y=\"-96.7\" font-family=\"Times,serif\" font-size=\"14.00\">d</text>\n",
       "<polyline fill=\"none\" stroke=\"black\" points=\"340.75,-84 340.75,-119.5\"/>\n",
       "<text text-anchor=\"middle\" x=\"382.88\" y=\"-96.7\" font-family=\"Times,serif\" font-size=\"14.00\">data &#45;4.0000</text>\n",
       "<polyline fill=\"none\" stroke=\"black\" points=\"425,-84 425,-119.5\"/>\n",
       "<text text-anchor=\"middle\" x=\"465.62\" y=\"-96.7\" font-family=\"Times,serif\" font-size=\"14.00\">grad 0.0000</text>\n",
       "</g>\n",
       "<!-- 4918111952&#45;&gt;5169167504+ -->\n",
       "<g id=\"edge5\" class=\"edge\">\n",
       "<title>4918111952&#45;&gt;5169167504+</title>\n",
       "<path fill=\"none\" stroke=\"black\" d=\"M506.49,-84.65C515.36,-83.05 523.93,-81.5 531.73,-80.09\"/>\n",
       "<polygon fill=\"black\" stroke=\"black\" points=\"532.2,-83.56 541.42,-78.34 530.95,-76.68 532.2,-83.56\"/>\n",
       "</g>\n",
       "<!-- 4918111952*&#45;&gt;4918111952 -->\n",
       "<g id=\"edge2\" class=\"edge\">\n",
       "<title>4918111952*&#45;&gt;4918111952</title>\n",
       "<path fill=\"none\" stroke=\"black\" d=\"M282.31,-101.5C289.49,-101.5 297.72,-101.5 306.47,-101.5\"/>\n",
       "<polygon fill=\"black\" stroke=\"black\" points=\"306.29,-105 316.29,-101.5 306.29,-98 306.29,-105\"/>\n",
       "</g>\n",
       "<!-- 4924757264 -->\n",
       "<g id=\"node6\" class=\"node\">\n",
       "<title>4924757264</title>\n",
       "<polygon fill=\"none\" stroke=\"black\" points=\"945.75,-27.5 945.75,-63.5 1131,-63.5 1131,-27.5 945.75,-27.5\"/>\n",
       "<text text-anchor=\"middle\" x=\"957.88\" y=\"-40.7\" font-family=\"Times,serif\" font-size=\"14.00\">L</text>\n",
       "<polyline fill=\"none\" stroke=\"black\" points=\"970,-28 970,-63.5\"/>\n",
       "<text text-anchor=\"middle\" x=\"1009.88\" y=\"-40.7\" font-family=\"Times,serif\" font-size=\"14.00\">data 5.0000</text>\n",
       "<polyline fill=\"none\" stroke=\"black\" points=\"1049.75,-28 1049.75,-63.5\"/>\n",
       "<text text-anchor=\"middle\" x=\"1090.38\" y=\"-40.7\" font-family=\"Times,serif\" font-size=\"14.00\">grad 1.0000</text>\n",
       "</g>\n",
       "<!-- 4924757264*&#45;&gt;4924757264 -->\n",
       "<g id=\"edge3\" class=\"edge\">\n",
       "<title>4924757264*&#45;&gt;4924757264</title>\n",
       "<path fill=\"none\" stroke=\"black\" d=\"M910.16,-45.5C917.2,-45.5 925.25,-45.5 933.8,-45.5\"/>\n",
       "<polygon fill=\"black\" stroke=\"black\" points=\"933.79,-49 943.79,-45.5 933.79,-42 933.79,-49\"/>\n",
       "</g>\n",
       "<!-- 4924755216 -->\n",
       "<g id=\"node8\" class=\"node\">\n",
       "<title>4924755216</title>\n",
       "<polygon fill=\"none\" stroke=\"black\" points=\"320.62,-28.5 320.62,-64.5 503.62,-64.5 503.62,-28.5 320.62,-28.5\"/>\n",
       "<text text-anchor=\"middle\" x=\"331.62\" y=\"-41.7\" font-family=\"Times,serif\" font-size=\"14.00\">c</text>\n",
       "<polyline fill=\"none\" stroke=\"black\" points=\"342.62,-29 342.62,-64.5\"/>\n",
       "<text text-anchor=\"middle\" x=\"382.5\" y=\"-41.7\" font-family=\"Times,serif\" font-size=\"14.00\">data 1.5000</text>\n",
       "<polyline fill=\"none\" stroke=\"black\" points=\"422.38,-29 422.38,-64.5\"/>\n",
       "<text text-anchor=\"middle\" x=\"463\" y=\"-41.7\" font-family=\"Times,serif\" font-size=\"14.00\">grad 0.0000</text>\n",
       "</g>\n",
       "<!-- 4924755216&#45;&gt;5169167504+ -->\n",
       "<g id=\"edge7\" class=\"edge\">\n",
       "<title>4924755216&#45;&gt;5169167504+</title>\n",
       "<path fill=\"none\" stroke=\"black\" d=\"M503.81,-62.28C513.45,-63.96 522.82,-65.59 531.29,-67.07\"/>\n",
       "<polygon fill=\"black\" stroke=\"black\" points=\"530.65,-70.51 541.1,-68.77 531.85,-63.61 530.65,-70.51\"/>\n",
       "</g>\n",
       "<!-- 5169153872 -->\n",
       "<g id=\"node9\" class=\"node\">\n",
       "<title>5169153872</title>\n",
       "<polygon fill=\"none\" stroke=\"black\" points=\"0,-56.5 0,-92.5 192,-92.5 192,-56.5 0,-56.5\"/>\n",
       "<text text-anchor=\"middle\" x=\"11\" y=\"-69.7\" font-family=\"Times,serif\" font-size=\"14.00\">a</text>\n",
       "<polyline fill=\"none\" stroke=\"black\" points=\"22,-57 22,-92.5\"/>\n",
       "<text text-anchor=\"middle\" x=\"64.12\" y=\"-69.7\" font-family=\"Times,serif\" font-size=\"14.00\">data &#45;2.0000</text>\n",
       "<polyline fill=\"none\" stroke=\"black\" points=\"106.25,-57 106.25,-92.5\"/>\n",
       "<text text-anchor=\"middle\" x=\"149.12\" y=\"-69.7\" font-family=\"Times,serif\" font-size=\"14.00\">grad &#45;4.0000</text>\n",
       "</g>\n",
       "<!-- 5169153872&#45;&gt;4918111952* -->\n",
       "<g id=\"edge9\" class=\"edge\">\n",
       "<title>5169153872&#45;&gt;4918111952*</title>\n",
       "<path fill=\"none\" stroke=\"black\" d=\"M192.4,-90.91C201.08,-92.4 209.47,-93.84 217.12,-95.16\"/>\n",
       "<polygon fill=\"black\" stroke=\"black\" points=\"216.53,-98.61 226.97,-96.85 217.71,-91.71 216.53,-98.61\"/>\n",
       "</g>\n",
       "<!-- 4919322064 -->\n",
       "<g id=\"node10\" class=\"node\">\n",
       "<title>4919322064</title>\n",
       "<polygon fill=\"none\" stroke=\"black\" points=\"633,-0.5 633,-36.5 819,-36.5 819,-0.5 633,-0.5\"/>\n",
       "<text text-anchor=\"middle\" x=\"643.25\" y=\"-13.7\" font-family=\"Times,serif\" font-size=\"14.00\">f</text>\n",
       "<polyline fill=\"none\" stroke=\"black\" points=\"653.5,-1 653.5,-36.5\"/>\n",
       "<text text-anchor=\"middle\" x=\"695.62\" y=\"-13.7\" font-family=\"Times,serif\" font-size=\"14.00\">data &#45;2.0000</text>\n",
       "<polyline fill=\"none\" stroke=\"black\" points=\"737.75,-1 737.75,-36.5\"/>\n",
       "<text text-anchor=\"middle\" x=\"778.38\" y=\"-13.7\" font-family=\"Times,serif\" font-size=\"14.00\">grad 0.0000</text>\n",
       "</g>\n",
       "<!-- 4919322064&#45;&gt;4924757264* -->\n",
       "<g id=\"edge4\" class=\"edge\">\n",
       "<title>4919322064&#45;&gt;4924757264*</title>\n",
       "<path fill=\"none\" stroke=\"black\" d=\"M819.25,-34.6C828.39,-36.19 837.23,-37.73 845.25,-39.13\"/>\n",
       "<polygon fill=\"black\" stroke=\"black\" points=\"844.41,-42.54 854.87,-40.81 845.62,-35.64 844.41,-42.54\"/>\n",
       "</g>\n",
       "</g>\n",
       "</svg>\n"
      ],
      "text/plain": [
       "<graphviz.graphs.Digraph at 0x1341bf9d0>"
      ]
     },
     "execution_count": 31,
     "metadata": {},
     "output_type": "execute_result"
    }
   ],
   "source": [
    "# Let set L.grad = 1, a.grad = -4 and visualize the graph\n",
    "L.grad = 1\n",
    "a.grad = -4\n",
    "draw_dot(L)"
   ]
  },
  {
   "cell_type": "code",
   "execution_count": null,
   "metadata": {},
   "outputs": [],
   "source": []
  }
 ],
 "metadata": {
  "kernelspec": {
   "display_name": "base",
   "language": "python",
   "name": "python3"
  },
  "language_info": {
   "codemirror_mode": {
    "name": "ipython",
    "version": 3
   },
   "file_extension": ".py",
   "mimetype": "text/x-python",
   "name": "python",
   "nbconvert_exporter": "python",
   "pygments_lexer": "ipython3",
   "version": "3.11.4"
  }
 },
 "nbformat": 4,
 "nbformat_minor": 2
}
