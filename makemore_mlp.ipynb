{
 "cells": [
  {
   "cell_type": "code",
   "execution_count": 1,
   "metadata": {},
   "outputs": [],
   "source": [
    "import torch"
   ]
  },
  {
   "cell_type": "code",
   "execution_count": 6,
   "metadata": {},
   "outputs": [
    {
     "data": {
      "text/plain": [
       "['emma', 'olivia', 'ava', 'isabella', 'sophia', 'charlotte']"
      ]
     },
     "execution_count": 6,
     "metadata": {},
     "output_type": "execute_result"
    }
   ],
   "source": [
    "# reading the words\n",
    "words = open('names.txt', 'r').read().splitlines()\n",
    "words[:6]"
   ]
  },
  {
   "cell_type": "code",
   "execution_count": 13,
   "metadata": {},
   "outputs": [],
   "source": [
    "chars = list(sorted(set(''.join(words))))\n",
    "stoi = {ch: i+1 for i, ch in enumerate(chars)}\n",
    "stoi['.'] = 0\n",
    "itos = {i: s  for s, i in stoi.items()}"
   ]
  },
  {
   "cell_type": "code",
   "execution_count": 40,
   "metadata": {},
   "outputs": [
    {
     "name": "stdout",
     "output_type": "stream",
     "text": [
      "emma\n",
      "... --> e\n",
      "..e --> m\n",
      ".em --> m\n",
      "emm --> a\n",
      "mma --> .\n",
      "olivia\n",
      "... --> o\n",
      "..o --> l\n",
      ".ol --> i\n",
      "oli --> v\n",
      "liv --> i\n",
      "ivi --> a\n",
      "via --> .\n",
      "ava\n",
      "... --> a\n",
      "..a --> v\n",
      ".av --> a\n",
      "ava --> .\n",
      "isabella\n",
      "... --> i\n",
      "..i --> s\n",
      ".is --> a\n",
      "isa --> b\n",
      "sab --> e\n",
      "abe --> l\n",
      "bel --> l\n",
      "ell --> a\n",
      "lla --> .\n",
      "sophia\n",
      "... --> s\n",
      "..s --> o\n",
      ".so --> p\n",
      "sop --> h\n",
      "oph --> i\n",
      "phi --> a\n",
      "hia --> .\n"
     ]
    }
   ],
   "source": [
    "# Building the dataset from the words\n",
    "\n",
    "block_size = 3  # the input length for the NN or the user\n",
    "X, Y = [], []\n",
    "\n",
    "for w in words[:5]:\n",
    "\n",
    "    print(w)\n",
    "    context = [0]*block_size\n",
    "    for ch in w + '.':\n",
    "        ix = stoi[ch]\n",
    "        X.append(context)\n",
    "        Y.append(ix)\n",
    "\n",
    "        print(''.join(itos[ind] for ind in context), '-->', itos[ix])\n",
    "        context = context[1:] + [ix]\n",
    "\n",
    "X = torch.tensor(X)\n",
    "Y = torch.tensor(Y)    "
   ]
  },
  {
   "cell_type": "code",
   "execution_count": 41,
   "metadata": {},
   "outputs": [
    {
     "data": {
      "text/plain": [
       "(torch.Size([32, 3]), torch.Size([32]))"
      ]
     },
     "execution_count": 41,
     "metadata": {},
     "output_type": "execute_result"
    }
   ],
   "source": [
    "X.shape, Y.shape"
   ]
  },
  {
   "cell_type": "code",
   "execution_count": 47,
   "metadata": {},
   "outputs": [],
   "source": [
    "# Embedding Space\n",
    "C = torch.rand((27, 2)) # embed in 2-dim space\n",
    "emb = C[X] # pytorch allows for a tensor to be used as index "
   ]
  },
  {
   "cell_type": "code",
   "execution_count": 48,
   "metadata": {},
   "outputs": [
    {
     "data": {
      "text/plain": [
       "torch.Size([32, 3, 2])"
      ]
     },
     "execution_count": 48,
     "metadata": {},
     "output_type": "execute_result"
    }
   ],
   "source": [
    "emb.shape"
   ]
  },
  {
   "cell_type": "code",
   "execution_count": 50,
   "metadata": {},
   "outputs": [
    {
     "data": {
      "text/plain": [
       "tensor([[[0.8522, 0.9341],\n",
       "         [0.8522, 0.9341],\n",
       "         [0.8522, 0.9341]],\n",
       "\n",
       "        [[0.8522, 0.9341],\n",
       "         [0.8522, 0.9341],\n",
       "         [0.1426, 0.4610]],\n",
       "\n",
       "        [[0.8522, 0.9341],\n",
       "         [0.1426, 0.4610],\n",
       "         [0.5180, 0.0174]],\n",
       "\n",
       "        [[0.1426, 0.4610],\n",
       "         [0.5180, 0.0174],\n",
       "         [0.5180, 0.0174]],\n",
       "\n",
       "        [[0.5180, 0.0174],\n",
       "         [0.5180, 0.0174],\n",
       "         [0.4545, 0.7051]],\n",
       "\n",
       "        [[0.8522, 0.9341],\n",
       "         [0.8522, 0.9341],\n",
       "         [0.8522, 0.9341]],\n",
       "\n",
       "        [[0.8522, 0.9341],\n",
       "         [0.8522, 0.9341],\n",
       "         [0.3652, 0.8338]],\n",
       "\n",
       "        [[0.8522, 0.9341],\n",
       "         [0.3652, 0.8338],\n",
       "         [0.8413, 0.4531]],\n",
       "\n",
       "        [[0.3652, 0.8338],\n",
       "         [0.8413, 0.4531],\n",
       "         [0.2880, 0.7776]],\n",
       "\n",
       "        [[0.8413, 0.4531],\n",
       "         [0.2880, 0.7776],\n",
       "         [0.2794, 0.5145]],\n",
       "\n",
       "        [[0.2880, 0.7776],\n",
       "         [0.2794, 0.5145],\n",
       "         [0.2880, 0.7776]],\n",
       "\n",
       "        [[0.2794, 0.5145],\n",
       "         [0.2880, 0.7776],\n",
       "         [0.4545, 0.7051]],\n",
       "\n",
       "        [[0.8522, 0.9341],\n",
       "         [0.8522, 0.9341],\n",
       "         [0.8522, 0.9341]],\n",
       "\n",
       "        [[0.8522, 0.9341],\n",
       "         [0.8522, 0.9341],\n",
       "         [0.4545, 0.7051]],\n",
       "\n",
       "        [[0.8522, 0.9341],\n",
       "         [0.4545, 0.7051],\n",
       "         [0.2794, 0.5145]],\n",
       "\n",
       "        [[0.4545, 0.7051],\n",
       "         [0.2794, 0.5145],\n",
       "         [0.4545, 0.7051]],\n",
       "\n",
       "        [[0.8522, 0.9341],\n",
       "         [0.8522, 0.9341],\n",
       "         [0.8522, 0.9341]],\n",
       "\n",
       "        [[0.8522, 0.9341],\n",
       "         [0.8522, 0.9341],\n",
       "         [0.2880, 0.7776]],\n",
       "\n",
       "        [[0.8522, 0.9341],\n",
       "         [0.2880, 0.7776],\n",
       "         [0.4819, 0.2750]],\n",
       "\n",
       "        [[0.2880, 0.7776],\n",
       "         [0.4819, 0.2750],\n",
       "         [0.4545, 0.7051]],\n",
       "\n",
       "        [[0.4819, 0.2750],\n",
       "         [0.4545, 0.7051],\n",
       "         [0.4773, 0.6214]],\n",
       "\n",
       "        [[0.4545, 0.7051],\n",
       "         [0.4773, 0.6214],\n",
       "         [0.1426, 0.4610]],\n",
       "\n",
       "        [[0.4773, 0.6214],\n",
       "         [0.1426, 0.4610],\n",
       "         [0.8413, 0.4531]],\n",
       "\n",
       "        [[0.1426, 0.4610],\n",
       "         [0.8413, 0.4531],\n",
       "         [0.8413, 0.4531]],\n",
       "\n",
       "        [[0.8413, 0.4531],\n",
       "         [0.8413, 0.4531],\n",
       "         [0.4545, 0.7051]],\n",
       "\n",
       "        [[0.8522, 0.9341],\n",
       "         [0.8522, 0.9341],\n",
       "         [0.8522, 0.9341]],\n",
       "\n",
       "        [[0.8522, 0.9341],\n",
       "         [0.8522, 0.9341],\n",
       "         [0.4819, 0.2750]],\n",
       "\n",
       "        [[0.8522, 0.9341],\n",
       "         [0.4819, 0.2750],\n",
       "         [0.3652, 0.8338]],\n",
       "\n",
       "        [[0.4819, 0.2750],\n",
       "         [0.3652, 0.8338],\n",
       "         [0.3905, 0.1429]],\n",
       "\n",
       "        [[0.3652, 0.8338],\n",
       "         [0.3905, 0.1429],\n",
       "         [0.8155, 0.2900]],\n",
       "\n",
       "        [[0.3905, 0.1429],\n",
       "         [0.8155, 0.2900],\n",
       "         [0.2880, 0.7776]],\n",
       "\n",
       "        [[0.8155, 0.2900],\n",
       "         [0.2880, 0.7776],\n",
       "         [0.4545, 0.7051]]])"
      ]
     },
     "execution_count": 50,
     "metadata": {},
     "output_type": "execute_result"
    }
   ],
   "source": [
    "emb"
   ]
  },
  {
   "cell_type": "code",
   "execution_count": null,
   "metadata": {},
   "outputs": [],
   "source": []
  }
 ],
 "metadata": {
  "kernelspec": {
   "display_name": "pytorch",
   "language": "python",
   "name": "python3"
  },
  "language_info": {
   "codemirror_mode": {
    "name": "ipython",
    "version": 3
   },
   "file_extension": ".py",
   "mimetype": "text/x-python",
   "name": "python",
   "nbconvert_exporter": "python",
   "pygments_lexer": "ipython3",
   "version": "3.11.7"
  }
 },
 "nbformat": 4,
 "nbformat_minor": 2
}
